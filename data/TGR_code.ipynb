{
 "cells": [
  {
   "cell_type": "code",
   "execution_count": 1,
   "id": "9339590d",
   "metadata": {},
   "outputs": [],
   "source": [
    "# Import libraries\n",
    "import numpy as np\n",
    "import pandas as pd\n",
    "import seaborn as sns\n",
    "from matplotlib import pyplot as plt\n",
    "from sklearn import model_selection\n",
    "from sklearn.linear_model import LinearRegression,Lasso,Ridge,LassoCV,RidgeCV\n",
    "from sklearn.ensemble import RandomForestRegressor\n",
    "from sklearn.model_selection import train_test_split,cross_val_score,RepeatedKFold\n",
    "from sklearn.metrics import mean_absolute_error,mean_squared_error,r2_score\n",
    "from sklearn.preprocessing import StandardScaler\n",
    "from math import sqrt"
   ]
  },
  {
   "cell_type": "code",
   "execution_count": 2,
   "id": "7310a54d",
   "metadata": {},
   "outputs": [],
   "source": [
    "# QCEW data\n",
    "\n",
    "# 2017\n",
    "df17 = pd.read_excel('/Users/omar.hassan/Documents/DAEN/DAEN 698/QCEW Data/pre-processed/2017.xlsx', \n",
    "                     sheet_name='US_St_Cn_MSA')\n",
    "# 2018\n",
    "df18 = pd.read_excel('/Users/omar.hassan/Documents/DAEN/DAEN 698/QCEW Data/pre-processed/2018.xlsx',\n",
    "                     sheet_name='US_St_Cn_MSA')\n",
    "# 2019\n",
    "df19 = pd.read_excel('/Users/omar.hassan/Documents/DAEN/DAEN 698/QCEW Data/pre-processed/2019.xlsx', \n",
    "                     sheet_name='US_St_Cn_MSA')\n",
    "# 2020\n",
    "df20 = pd.read_excel('/Users/omar.hassan/Documents/DAEN/DAEN 698/QCEW Data/pre-processed/2020.xlsx', \n",
    "                     sheet_name='US_St_Cn_MSA')\n",
    "# 2021\n",
    "df21 = pd.read_excel('/Users/omar.hassan/Documents/DAEN/DAEN 698/QCEW Data/pre-processed/2021.xlsx', \n",
    "                     sheet_name='US_St_Cn_MSA')"
   ]
  },
  {
   "cell_type": "code",
   "execution_count": 3,
   "id": "f1d8f615",
   "metadata": {},
   "outputs": [],
   "source": [
    "# JOLTS data\n",
    "j = pd.read_excel('/Users/omar.hassan/Documents/DAEN/DAEN 698/QCEW Data/pre-processed/jolts_2017_2021.xlsx', \n",
    "                     sheet_name='jolts')"
   ]
  },
  {
   "cell_type": "code",
   "execution_count": 4,
   "id": "ccf37fa0",
   "metadata": {},
   "outputs": [],
   "source": [
    "# Union the QCEW annual files\n",
    "df = pd.concat([df17,df18,df19,df20,df21])"
   ]
  },
  {
   "cell_type": "code",
   "execution_count": 5,
   "id": "10355d40",
   "metadata": {
    "scrolled": false
   },
   "outputs": [
    {
     "name": "stdout",
     "output_type": "stream",
     "text": [
      "<class 'pandas.core.frame.DataFrame'>\n",
      "Int64Index: 314467 entries, 0 to 63008\n",
      "Data columns (total 20 columns):\n",
      " #   Column                                         Non-Null Count   Dtype  \n",
      "---  ------                                         --------------   -----  \n",
      " 0   Area\n",
      "Code                                      314467 non-null  object \n",
      " 1   St                                             280848 non-null  object \n",
      " 2   Cnty                                           280848 non-null  float64\n",
      " 3   Own                                            314467 non-null  int64  \n",
      " 4   NAICS                                          314467 non-null  int64  \n",
      " 5   Year                                           314467 non-null  int64  \n",
      " 6   Qtr                                            314467 non-null  object \n",
      " 7   Area Type                                      314467 non-null  object \n",
      " 8   St Name                                        280758 non-null  object \n",
      " 9   Area                                           314467 non-null  object \n",
      " 10  Ownership                                      314467 non-null  object \n",
      " 11  Industry                                       314467 non-null  object \n",
      " 12  Annual Average Status Code                     18775 non-null   object \n",
      " 13  Annual Average Establishment Count             314467 non-null  int64  \n",
      " 14  Annual Average Employment                      314467 non-null  int64  \n",
      " 15  Annual Total Wages                             314467 non-null  int64  \n",
      " 16  Annual Average Weekly Wage                     314467 non-null  int64  \n",
      " 17  Annual Average Pay                             314467 non-null  int64  \n",
      " 18  Employment Location Quotient Relative to U.S.  314467 non-null  float64\n",
      " 19  Total Wage Location Quotient Relative to U.S.  314467 non-null  float64\n",
      "dtypes: float64(3), int64(8), object(9)\n",
      "memory usage: 50.4+ MB\n",
      "None\n",
      "<class 'pandas.core.frame.DataFrame'>\n",
      "RangeIndex: 255 entries, 0 to 254\n",
      "Data columns (total 4 columns):\n",
      " #   Column        Non-Null Count  Dtype  \n",
      "---  ------        --------------  -----  \n",
      " 0   year          255 non-null    int64  \n",
      " 1   state         255 non-null    object \n",
      " 2   quits         255 non-null    float64\n",
      " 3   job_openings  255 non-null    float64\n",
      "dtypes: float64(2), int64(1), object(1)\n",
      "memory usage: 8.1+ KB\n",
      "None\n"
     ]
    }
   ],
   "source": [
    "# Get info on the columns and datatypes\n",
    "print(df.info())\n",
    "print(j.info())"
   ]
  },
  {
   "cell_type": "code",
   "execution_count": 6,
   "id": "a5935899",
   "metadata": {},
   "outputs": [],
   "source": [
    "# Rename columns\n",
    "df.rename(columns={'Year' : 'year',\n",
    "                   'Area Type': 'area_type',\n",
    "                   'St Name': 'state',\n",
    "                   'Ownership': 'ownership',\n",
    "                   'Industry': 'industry',\n",
    "                   'Annual Average Establishment Count': 'num_est',\n",
    "                   'Annual Average Employment': 'num_emp',\n",
    "                   'Annual Total Wages': 'total_wage',\n",
    "                   'Annual Average Weekly Wage': 'weekly_wage',\n",
    "                   'Annual Average Pay': 'annual_wage',\n",
    "                   'Employment Location Quotient Relative to U.S.': 'elq',\n",
    "                   'Total Wage Location Quotient Relative to U.S.': 'wlq'},\n",
    "          inplace=True)"
   ]
  },
  {
   "cell_type": "code",
   "execution_count": 7,
   "id": "f4b81b16",
   "metadata": {},
   "outputs": [],
   "source": [
    "# Creating subsets that are most expressive of the desired results\n",
    "df2 = df.loc[(df[\"area_type\"] == 'State') # Other levels do not express results well\n",
    "                  & (df[\"ownership\"] == 'Private') # Other levels do not contain any industry-level data\n",
    "                  & (df[\"industry\"] != '1029 Unclassified') # Not all states contain this level, so it may inflate results\n",
    "                  & (df[\"industry\"] != '10 Total, all industries') # Removing to avoid redundancy\n",
    "                  & (df[\"industry\"] != '101 Goods-producing') # This is a parent category. Removing to avoid redundancy.\n",
    "                  & (df[\"industry\"] != '102 Service-providing') # This is a parent category. Removing to avoid redundancy.\n",
    "                  & (df[\"Annual Average Status Code\"] != 'N')] # Nothing reported for this level.\n"
   ]
  },
  {
   "cell_type": "code",
   "execution_count": 8,
   "id": "8c4b9390",
   "metadata": {
    "scrolled": true
   },
   "outputs": [
    {
     "name": "stderr",
     "output_type": "stream",
     "text": [
      "/var/folders/9y/lj7qm_g14lb32t9p53gc__j80000gp/T/ipykernel_71635/2678224554.py:2: SettingWithCopyWarning: \n",
      "A value is trying to be set on a copy of a slice from a DataFrame.\n",
      "Try using .loc[row_indexer,col_indexer] = value instead\n",
      "\n",
      "See the caveats in the documentation: https://pandas.pydata.org/pandas-docs/stable/user_guide/indexing.html#returning-a-view-versus-a-copy\n",
      "  df2['industry'] = [item[5:] for item in df2['industry']]\n"
     ]
    }
   ],
   "source": [
    "# Removing code from beginning of each industry level\n",
    "df2['industry'] = [item[5:] for item in df2['industry']]"
   ]
  },
  {
   "cell_type": "code",
   "execution_count": 9,
   "id": "ea30d9d8",
   "metadata": {},
   "outputs": [],
   "source": [
    "# Select columns you want to keep in the final dataset.\n",
    "df2 = df2.iloc[:,[5,8,10,11,13,14,15,16,17,18,19]]"
   ]
  },
  {
   "cell_type": "code",
   "execution_count": 10,
   "id": "cf28e342",
   "metadata": {},
   "outputs": [
    {
     "name": "stdout",
     "output_type": "stream",
     "text": [
      "<class 'pandas.core.frame.DataFrame'>\n",
      "Int64Index: 2538 entries, 24 to 55842\n",
      "Data columns (total 11 columns):\n",
      " #   Column       Non-Null Count  Dtype  \n",
      "---  ------       --------------  -----  \n",
      " 0   year         2538 non-null   int64  \n",
      " 1   state        2538 non-null   object \n",
      " 2   ownership    2538 non-null   object \n",
      " 3   industry     2538 non-null   object \n",
      " 4   num_est      2538 non-null   int64  \n",
      " 5   num_emp      2538 non-null   int64  \n",
      " 6   total_wage   2538 non-null   int64  \n",
      " 7   weekly_wage  2538 non-null   int64  \n",
      " 8   annual_wage  2538 non-null   int64  \n",
      " 9   elq          2538 non-null   float64\n",
      " 10  wlq          2538 non-null   float64\n",
      "dtypes: float64(2), int64(6), object(3)\n",
      "memory usage: 237.9+ KB\n"
     ]
    }
   ],
   "source": [
    "# Get information on latest dataframe\n",
    "df2.info()"
   ]
  },
  {
   "cell_type": "code",
   "execution_count": 11,
   "id": "36f8fd4f",
   "metadata": {},
   "outputs": [
    {
     "name": "stdout",
     "output_type": "stream",
     "text": [
      "   year    state ownership                              industry  num_est  \\\n",
      "0  2017  Alabama   Private          Natural resources and mining     1815   \n",
      "1  2017  Alabama   Private                          Construction     9645   \n",
      "2  2017  Alabama   Private                         Manufacturing     5447   \n",
      "3  2017  Alabama   Private  Trade, transportation, and utilities    32410   \n",
      "4  2017  Alabama   Private                           Information     1969   \n",
      "5  2017  Alabama   Private                  Financial activities    13089   \n",
      "6  2017  Alabama   Private    Professional and business services    21426   \n",
      "7  2017  Alabama   Private         Education and health services    12429   \n",
      "8  2017  Alabama   Private               Leisure and hospitality    10741   \n",
      "9  2017  Alabama   Private                        Other services     9603   \n",
      "\n",
      "   num_emp   total_wage  weekly_wage  annual_wage   elq   wlq  quits  \\\n",
      "0    17999    949424301         1014        52748  0.71  0.79    2.4   \n",
      "1    85262   4453218100         1004        52230  0.92  0.95    2.4   \n",
      "2   263487  14543812862         1061        55197  1.58  1.57    2.4   \n",
      "3   375653  15220515239          779        40518  1.02  1.08    2.4   \n",
      "4    20807   1226186264         1133        58932  0.55  0.37    2.4   \n",
      "5    94756   6284582761         1275        66324  0.87  0.75    2.4   \n",
      "6   239356  12871039299         1034        53774  0.87  0.78    2.4   \n",
      "7   229821  10489193057          878        45641  0.77  0.86    2.4   \n",
      "8   202336   3282307077          312        16222  0.95  0.80    2.4   \n",
      "9    45296   1655070132          703        36539  0.76  0.89    2.4   \n",
      "\n",
      "   job_openings  \n",
      "0           3.8  \n",
      "1           3.8  \n",
      "2           3.8  \n",
      "3           3.8  \n",
      "4           3.8  \n",
      "5           3.8  \n",
      "6           3.8  \n",
      "7           3.8  \n",
      "8           3.8  \n",
      "9           3.8  \n",
      "<class 'pandas.core.frame.DataFrame'>\n",
      "Int64Index: 2538 entries, 0 to 2537\n",
      "Data columns (total 13 columns):\n",
      " #   Column        Non-Null Count  Dtype  \n",
      "---  ------        --------------  -----  \n",
      " 0   year          2538 non-null   int64  \n",
      " 1   state         2538 non-null   object \n",
      " 2   ownership     2538 non-null   object \n",
      " 3   industry      2538 non-null   object \n",
      " 4   num_est       2538 non-null   int64  \n",
      " 5   num_emp       2538 non-null   int64  \n",
      " 6   total_wage    2538 non-null   int64  \n",
      " 7   weekly_wage   2538 non-null   int64  \n",
      " 8   annual_wage   2538 non-null   int64  \n",
      " 9   elq           2538 non-null   float64\n",
      " 10  wlq           2538 non-null   float64\n",
      " 11  quits         2538 non-null   float64\n",
      " 12  job_openings  2538 non-null   float64\n",
      "dtypes: float64(4), int64(6), object(3)\n",
      "memory usage: 277.6+ KB\n",
      "None\n"
     ]
    }
   ],
   "source": [
    "# Merge the clean QCEW data and JOLTS data. \n",
    "# Take a look at the first 10 records and the table structure\n",
    "\n",
    "df_final = pd.merge(df2,j)\n",
    "print(df_final.head(10))\n",
    "print(df_final.info())"
   ]
  },
  {
   "cell_type": "code",
   "execution_count": null,
   "id": "313a5a2e",
   "metadata": {},
   "outputs": [],
   "source": [
    "# Write to excel\n",
    "df_final.to_excel('/Users/omar.hassan/Documents/DAEN/DAEN 698/QCEW Data/Final Data/df_final.xlsx')"
   ]
  },
  {
   "cell_type": "code",
   "execution_count": 12,
   "id": "7bca2bd3",
   "metadata": {},
   "outputs": [
    {
     "data": {
      "text/plain": [
       "<AxesSubplot:>"
      ]
     },
     "execution_count": 12,
     "metadata": {},
     "output_type": "execute_result"
    },
    {
     "data": {
      "image/png": "[encoded data removed]",
      "text/plain": [
       "<Figure size 432x288 with 2 Axes>"
      ]
     },
     "metadata": {
      "needs_background": "light"
     },
     "output_type": "display_data"
    }
   ],
   "source": [
    "# Correlation plot\n",
    "\n",
    "df_corr = df_final.iloc[:,4:]\n",
    "sns.set(rc = {'figure.figsize':(20,10)})\n",
    "sns.heatmap(df_corr.corr(), annot = True, fmt='.1g',vmin=-1, vmax=1, center= 0, cmap= 'coolwarm')"
   ]
  },
  {
   "cell_type": "markdown",
   "id": "5a1e2b43",
   "metadata": {},
   "source": [
    "# Linear Regression"
   ]
  },
  {
   "cell_type": "code",
   "execution_count": 13,
   "id": "0619c94d",
   "metadata": {},
   "outputs": [],
   "source": [
    "# Test train split\n",
    "\n",
    "X, y = df_final.iloc[:,[4,5,6,7,8,9,10,12]], df_final.iloc[:,11]\n",
    "X_train, X_test, y_train, y_test = train_test_split(X, y, test_size=0.3, random_state=10)"
   ]
  },
  {
   "cell_type": "code",
   "execution_count": 15,
   "id": "ec834174",
   "metadata": {},
   "outputs": [],
   "source": [
    "# Standardization - Part of Data preprocessing\n",
    "\n",
    "list_numerical = X.columns\n",
    "\n",
    "scaler = StandardScaler().fit(X_train[list_numerical]) \n",
    "\n",
    "X_train[list_numerical] = scaler.transform(X_train[list_numerical])\n",
    "\n",
    "X_test[list_numerical] = scaler.transform(X_test[list_numerical])"
   ]
  },
  {
   "cell_type": "code",
   "execution_count": 16,
   "id": "d95c8934",
   "metadata": {
    "scrolled": true
   },
   "outputs": [
    {
     "data": {
      "text/plain": [
       "LinearRegression()"
      ]
     },
     "execution_count": 16,
     "metadata": {},
     "output_type": "execute_result"
    }
   ],
   "source": [
    "# Fit the model\n",
    "\n",
    "lr = LinearRegression()\n",
    "lr.fit(X_train, y_train)"
   ]
  },
  {
   "cell_type": "code",
   "execution_count": 27,
   "id": "13cb8c30",
   "metadata": {
    "scrolled": false
   },
   "outputs": [
    {
     "name": "stdout",
     "output_type": "stream",
     "text": [
      "Train Data RMSE:  0.34\n",
      "Train Data R2:  0.51\n",
      "\n",
      "Test Data RMSE:  0.36\n",
      "Test Data R2:  0.47\n"
     ]
    }
   ],
   "source": [
    "# Model Evaluation\n",
    "\n",
    "pred_train_lr= lr.predict(X_train) # Train Data Prediction\n",
    "print('Train Data RMSE: ', round(np.sqrt(mean_squared_error(y_train,pred_train_lr)),2))\n",
    "print('Train Data R2: ', round(r2_score(y_train, pred_train_lr),2))\n",
    "\n",
    "print('') # Blank Space\n",
    "\n",
    "pred_test_lr= lr.predict(X_test) # Test Data Prediction\n",
    "print('Test Data RMSE: ', round(np.sqrt(mean_squared_error(y_test,pred_test_lr)),2)) \n",
    "print('Test Data R2: ', round(r2_score(y_test, pred_test_lr),2))"
   ]
  },
  {
   "cell_type": "markdown",
   "id": "8d817d85",
   "metadata": {},
   "source": [
    "# Ridge Regression"
   ]
  },
  {
   "cell_type": "code",
   "execution_count": 21,
   "id": "5306b3b7",
   "metadata": {},
   "outputs": [
    {
     "data": {
      "text/plain": [
       "RidgeCV(alphas=array([ 0.1,  1. , 10. ]), cv=5)"
      ]
     },
     "execution_count": 21,
     "metadata": {},
     "output_type": "execute_result"
    }
   ],
   "source": [
    "# Ridge with 5 fold cross-validation\n",
    "\n",
    "model = RidgeCV(cv=5)\n",
    "model.fit(X_train,y_train)"
   ]
  },
  {
   "cell_type": "code",
   "execution_count": 22,
   "id": "50afb4c7",
   "metadata": {},
   "outputs": [
    {
     "name": "stdout",
     "output_type": "stream",
     "text": [
      "[(-0.0068263518164935096, 'num_est'), (-0.02824178382216267, 'num_emp'), (0.003849745671599864, 'total_wage'), (-0.04353969061380039, 'weekly_wage'), (-0.05575163526059284, 'annual_wage'), (-0.11210920949408411, 'elq'), (0.15406150917702746, 'wlq'), (0.3279593495844752, 'job_openings')]\n"
     ]
    }
   ],
   "source": [
    "# Use the optimal alphas\n",
    "rr = Ridge(alpha=model.alpha_)\n",
    "\n",
    "# Fit the model\n",
    "rr.fit(X_train, y_train)\n",
    "\n",
    "# Show coefficients\n",
    "print(list(zip(rr.coef_, X)))"
   ]
  },
  {
   "cell_type": "code",
   "execution_count": 25,
   "id": "1628c043",
   "metadata": {},
   "outputs": [
    {
     "name": "stdout",
     "output_type": "stream",
     "text": [
      "Train Data RMSE:  0.34\n",
      "Train Data R2:  0.51\n",
      "\n",
      "Test Data RMSE:  0.36\n",
      "Test Data R2:  0.47\n"
     ]
    }
   ],
   "source": [
    "# Model Evaluation\n",
    "\n",
    "pred_train_rr= rr.predict(X_train) # Train Data Prediction\n",
    "print('Train Data RMSE: ', round(np.sqrt(mean_squared_error(y_train,pred_train_rr)),2))\n",
    "print('Train Data R2: ', round(r2_score(y_train, pred_train_rr),2))\n",
    "\n",
    "print('') # Blank Space\n",
    "\n",
    "pred_test_rr= rr.predict(X_test) # Test Data Prediction\n",
    "print('Test Data RMSE: ', round(np.sqrt(mean_squared_error(y_test,pred_test_rr)),2)) \n",
    "print('Test Data R2: ', round(r2_score(y_test, pred_test_rr),2))"
   ]
  },
  {
   "cell_type": "markdown",
   "id": "d6fdb981",
   "metadata": {},
   "source": [
    "# Lasso Regression"
   ]
  },
  {
   "cell_type": "code",
   "execution_count": 28,
   "id": "f967faf0",
   "metadata": {},
   "outputs": [
    {
     "data": {
      "text/plain": [
       "LassoCV(cv=5, max_iter=10000, random_state=0)"
      ]
     },
     "execution_count": 28,
     "metadata": {},
     "output_type": "execute_result"
    }
   ],
   "source": [
    "# Lasso with 5 fold cross-validation\n",
    "model = LassoCV(cv=5, random_state=0, max_iter=10000)\n",
    "model.fit(X_train, y_train)"
   ]
  },
  {
   "cell_type": "code",
   "execution_count": 29,
   "id": "6b2bcb05",
   "metadata": {},
   "outputs": [
    {
     "name": "stdout",
     "output_type": "stream",
     "text": [
      "[(-0.006302517066680019, 'num_est'), (-0.02506064492635176, 'num_emp'), (-0.0, 'total_wage'), (-0.09704081860107784, 'weekly_wage'), (-0.0004377221041248233, 'annual_wage'), (-0.1041377378383156, 'elq'), (0.14586724013437782, 'wlq'), (0.32774825228527166, 'job_openings')]\n"
     ]
    }
   ],
   "source": [
    "# Use the optimal alpha\n",
    "lasso = Lasso(alpha=model.alpha_)\n",
    "\n",
    "# Fit the model\n",
    "lasso.fit(X_train, y_train)\n",
    "\n",
    "# Show coefficients\n",
    "print(list(zip(lasso.coef_, X)))"
   ]
  },
  {
   "cell_type": "code",
   "execution_count": 30,
   "id": "cc90a3ea",
   "metadata": {},
   "outputs": [
    {
     "name": "stdout",
     "output_type": "stream",
     "text": [
      "Train Data RMSE:  0.34\n",
      "Train Data R2:  0.51\n",
      "\n",
      "Test Data RMSE:  0.36\n",
      "Test Data R2:  0.47\n"
     ]
    }
   ],
   "source": [
    "# Model Evaluation\n",
    "\n",
    "pred_train_lasso= lasso.predict(X_train) # Train Data Prediction\n",
    "print('Train Data RMSE: ', round(np.sqrt(mean_squared_error(y_train,pred_train_lasso)),2))\n",
    "print('Train Data R2: ', round(r2_score(y_train, pred_train_lasso),2))\n",
    "\n",
    "print('') # Blank Space\n",
    "\n",
    "pred_test_lasso= lasso.predict(X_test) # Test Data Prediction\n",
    "print('Test Data RMSE: ', round(np.sqrt(mean_squared_error(y_test,pred_test_lasso)),2)) \n",
    "print('Test Data R2: ', round(r2_score(y_test, pred_test_lasso),2))"
   ]
  },
  {
   "cell_type": "markdown",
   "id": "49bc42b3",
   "metadata": {},
   "source": [
    "# Random Forest"
   ]
  },
  {
   "cell_type": "code",
   "execution_count": 31,
   "id": "9526969f",
   "metadata": {},
   "outputs": [],
   "source": [
    "# Fit Random Forest model\n",
    "rf = RandomForestRegressor(n_estimators=200, random_state=0)\n",
    "rf.fit(X_train, y_train)\n",
    "\n",
    "# Predict on test set\n",
    "y_pred = rf.predict(X_test)"
   ]
  },
  {
   "cell_type": "code",
   "execution_count": 32,
   "id": "f929e4ab",
   "metadata": {},
   "outputs": [
    {
     "name": "stdout",
     "output_type": "stream",
     "text": [
      "Train Data RMSE:  0.1\n",
      "Train Data R2:  0.96\n",
      "\n",
      "Test Data RMSE:  0.28\n",
      "Test Data R2:  0.68\n"
     ]
    }
   ],
   "source": [
    "# Model Evaluation\n",
    "\n",
    "pred_train_rf= rf.predict(X_train) # Train Data Prediction\n",
    "print('Train Data RMSE: ', round(np.sqrt(mean_squared_error(y_train,pred_train_rf)),2))\n",
    "print('Train Data R2: ', round(r2_score(y_train, pred_train_rf),2))\n",
    "\n",
    "print('') # Blank Space\n",
    "\n",
    "pred_test_rf= rf.predict(X_test) # Test Data Prediction\n",
    "print('Test Data RMSE: ',round(np.sqrt(mean_squared_error(y_test,pred_test_rf)),2))\n",
    "print('Test Data R2: ',round(r2_score(y_test, pred_test_rf),2))"
   ]
  },
  {
   "cell_type": "code",
   "execution_count": 33,
   "id": "f42e3392",
   "metadata": {},
   "outputs": [],
   "source": [
    "# Feature Importance \n",
    "\n",
    "def plot_feature_importance(importance,names,model_type):\n",
    "    #Create arrays from feature importance and feature names\n",
    "    feature_importance = np.array(importance)\n",
    "    feature_names = np.array(names)\n",
    "    \n",
    "    #Create a DataFrame using a Dictionary\n",
    "    data={'feature_names':feature_names,'feature_importance':feature_importance}\n",
    "    fi_df = pd.DataFrame(data)\n",
    "    \n",
    "    #Sort the DataFrame in order decreasing feature importance\n",
    "    fi_df.sort_values(by=['feature_importance'], ascending=False,inplace=True)\n",
    "\n",
    "    #Define size of bar plot\n",
    "    plt.figure(figsize=(10,8))\n",
    "    #Plot Searborn bar chart\n",
    "    sns.barplot(x=fi_df['feature_importance'], y=fi_df['feature_names'])\n",
    "    #Add chart labels\n",
    "    plt.title(model_type + 'FEATURE IMPORTANCE')\n",
    "    plt.xlabel('FEATURE IMPORTANCE')\n",
    "    plt.ylabel('FEATURE NAMES')"
   ]
  },
  {
   "cell_type": "code",
   "execution_count": 34,
   "id": "71e451ba",
   "metadata": {},
   "outputs": [
    {
     "data": {
      "image/png": "[encoded data removed]",
      "text/plain": [
       "<Figure size 720x576 with 1 Axes>"
      ]
     },
     "metadata": {
      "needs_background": "light"
     },
     "output_type": "display_data"
    }
   ],
   "source": [
    "# Feature Importance Plot\n",
    "\n",
    "plot_feature_importance(rf.feature_importances_,X_train.columns,'RANDOM FOREST ')"
   ]
  }
 ],
 "metadata": {
  "kernelspec": {
   "display_name": "Python 3 (ipykernel)",
   "language": "python",
   "name": "python3"
  },
  "language_info": {
   "codemirror_mode": {
    "name": "ipython",
    "version": 3
   },
   "file_extension": ".py",
   "mimetype": "text/x-python",
   "name": "python",
   "nbconvert_exporter": "python",
   "pygments_lexer": "ipython3",
   "version": "3.9.12"
  }
 },
 "nbformat": 4,
 "nbformat_minor": 5
}
